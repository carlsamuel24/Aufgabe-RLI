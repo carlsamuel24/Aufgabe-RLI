{
 "cells": [
  {
   "cell_type": "code",
   "execution_count": 387,
   "id": "633e37ba-40df-496c-8782-4bc4897b0b3b",
   "metadata": {},
   "outputs": [
    {
     "data": {
      "text/html": [
       "<div>\n",
       "<style scoped>\n",
       "    .dataframe tbody tr th:only-of-type {\n",
       "        vertical-align: middle;\n",
       "    }\n",
       "\n",
       "    .dataframe tbody tr th {\n",
       "        vertical-align: top;\n",
       "    }\n",
       "\n",
       "    .dataframe thead th {\n",
       "        text-align: right;\n",
       "    }\n",
       "</style>\n",
       "<table border=\"1\" class=\"dataframe\">\n",
       "  <thead>\n",
       "    <tr style=\"text-align: right;\">\n",
       "      <th></th>\n",
       "      <th>Energiequelle</th>\n",
       "      <th>Leistung in kW</th>\n",
       "    </tr>\n",
       "  </thead>\n",
       "  <tbody>\n",
       "    <tr>\n",
       "      <th>0</th>\n",
       "      <td>wind</td>\n",
       "      <td>850</td>\n",
       "    </tr>\n",
       "    <tr>\n",
       "      <th>1</th>\n",
       "      <td>wind</td>\n",
       "      <td>850</td>\n",
       "    </tr>\n",
       "    <tr>\n",
       "      <th>2</th>\n",
       "      <td>wind</td>\n",
       "      <td>850</td>\n",
       "    </tr>\n",
       "    <tr>\n",
       "      <th>3</th>\n",
       "      <td>wind</td>\n",
       "      <td>850</td>\n",
       "    </tr>\n",
       "    <tr>\n",
       "      <th>4</th>\n",
       "      <td>wind</td>\n",
       "      <td>850</td>\n",
       "    </tr>\n",
       "    <tr>\n",
       "      <th>...</th>\n",
       "      <td>...</td>\n",
       "      <td>...</td>\n",
       "    </tr>\n",
       "    <tr>\n",
       "      <th>5102</th>\n",
       "      <td>wind</td>\n",
       "      <td>1.65</td>\n",
       "    </tr>\n",
       "    <tr>\n",
       "      <th>5103</th>\n",
       "      <td>wind</td>\n",
       "      <td>850</td>\n",
       "    </tr>\n",
       "    <tr>\n",
       "      <th>5104</th>\n",
       "      <td>wind</td>\n",
       "      <td>1.65</td>\n",
       "    </tr>\n",
       "    <tr>\n",
       "      <th>5105</th>\n",
       "      <td>wind</td>\n",
       "      <td>850</td>\n",
       "    </tr>\n",
       "    <tr>\n",
       "      <th>5106</th>\n",
       "      <td>wind</td>\n",
       "      <td>850</td>\n",
       "    </tr>\n",
       "  </tbody>\n",
       "</table>\n",
       "<p>5107 rows × 2 columns</p>\n",
       "</div>"
      ],
      "text/plain": [
       "     Energiequelle Leistung in kW\n",
       "0             wind            850\n",
       "1             wind            850\n",
       "2             wind            850\n",
       "3             wind            850\n",
       "4             wind            850\n",
       "...            ...            ...\n",
       "5102          wind           1.65\n",
       "5103          wind            850\n",
       "5104          wind           1.65\n",
       "5105          wind            850\n",
       "5106          wind            850\n",
       "\n",
       "[5107 rows x 2 columns]"
      ]
     },
     "execution_count": 387,
     "metadata": {},
     "output_type": "execute_result"
    }
   ],
   "source": [
    "import numpy as np\n",
    "import pandas as pd\n",
    "\n",
    "df = pd.read_csv(\"/Users/user/Documents/Bewerbung RLI/Aufgabe/2023-03-15 Data Bewerbungsaufgabe.csv\", #csv datei als DataFrame speichern\n",
    "                             sep=\";\",\n",
    "                             header=0,\n",
    "                             names=[\"1\", \"Energiequelle\", \"Leistung in kW\"]) #Spalten benennen\n",
    "\n",
    "\n",
    "del df['1']  #erste Spalte löschen\n",
    "\n",
    "df\n"
   ]
  },
  {
   "cell_type": "code",
   "execution_count": 388,
   "id": "b3f4e6ad-113f-4ffa-9919-bf573defa07a",
   "metadata": {},
   "outputs": [
    {
     "name": "stdout",
     "output_type": "stream",
     "text": [
      "     Energiequelle Leistung in kW\n",
      "4652        biogas            yes\n",
      "3022        biogas            NaN\n",
      "3021        biogas            NaN\n",
      "3020        biogas            NaN\n",
      "3018        biogas            NaN\n",
      "...            ...            ...\n",
      "2994           NaN            NaN\n",
      "2995           NaN            NaN\n",
      "3334           NaN            NaN\n",
      "3529           NaN            NaN\n",
      "4549           NaN            NaN\n",
      "\n",
      "[5107 rows x 2 columns]\n"
     ]
    }
   ],
   "source": [
    "df_sorted = df.sort_values('Energiequelle')  #sortieren Energiequellen alphabetisch\n",
    "print(df_sorted)\n"
   ]
  },
  {
   "cell_type": "code",
   "execution_count": 392,
   "id": "d906f401-c966-4b19-8714-1399fffece67",
   "metadata": {},
   "outputs": [
    {
     "name": "stdout",
     "output_type": "stream",
     "text": [
      "     Energiequelle Leistung in kW\n",
      "4652        biogas            600\n",
      "3022        biogas            NaN\n",
      "3021        biogas            NaN\n",
      "3020        biogas            NaN\n",
      "3018        biogas            NaN\n",
      "...            ...            ...\n",
      "2994           NaN            NaN\n",
      "2995           NaN            NaN\n",
      "3334           NaN            NaN\n",
      "3529           NaN            NaN\n",
      "4549           NaN            NaN\n",
      "\n",
      "[5107 rows x 2 columns]\n"
     ]
    }
   ],
   "source": [
    "for i in range(len(df)):  #Angewandt auf alles Zeilen des Dataframe\n",
    "    df_sorted.loc[df['Leistung in kW']=='yes','Leistung in kW']=600 #wenn 'Leistung in kW' == yes, ändern in 600\n",
    "\n",
    "\n",
    "print(df_sorted)"
   ]
  },
  {
   "cell_type": "code",
   "execution_count": 393,
   "id": "b47a4bca-4708-42a6-a1f1-122b3c31a9a8",
   "metadata": {},
   "outputs": [
    {
     "name": "stdout",
     "output_type": "stream",
     "text": [
      "     Energiequelle Leistung in kW\n",
      "4652        biogas            600\n",
      "2432        biogas            250\n",
      "2427        biogas            901\n",
      "2424        biogas            889\n",
      "2407        biogas            330\n",
      "...            ...            ...\n",
      "1915          wind           3200\n",
      "1914          wind           3200\n",
      "1912          wind           3200\n",
      "1913          wind           3200\n",
      "5106          wind            850\n",
      "\n",
      "[2765 rows x 2 columns]\n",
      "     Energiequelle Leistung in kW\n",
      "2432        biogas            250\n",
      "2427        biogas            901\n",
      "2424        biogas            889\n",
      "2407        biogas            330\n",
      "2404        biogas            250\n",
      "...            ...            ...\n",
      "1915          wind           3200\n",
      "1914          wind           3200\n",
      "1912          wind           3200\n",
      "1913          wind           3200\n",
      "5106          wind            850\n",
      "\n",
      "[2156 rows x 2 columns]\n"
     ]
    }
   ],
   "source": [
    "df_NaN = df_sorted.dropna(subset=['Leistung in kW'])  #Alle Zeilen mit NaN in 'Leistung in kW' löschen\n",
    "\n",
    "print(df_NaN)\n",
    "\n",
    "df_number = df_NaN[df_NaN['Leistung in kW'].apply(lambda x: isinstance(x, str))] #wenn Eintrag in Spalte 'Leistung in kW' ein String ist, Zeile löschen\n",
    "\n",
    " \n",
    "print(df_number)        \n",
    "\n",
    "\n"
   ]
  },
  {
   "cell_type": "code",
   "execution_count": 394,
   "id": "79d75b6c-e282-4777-9271-23d56014303a",
   "metadata": {},
   "outputs": [
    {
     "data": {
      "text/html": [
       "<div>\n",
       "<style scoped>\n",
       "    .dataframe tbody tr th:only-of-type {\n",
       "        vertical-align: middle;\n",
       "    }\n",
       "\n",
       "    .dataframe tbody tr th {\n",
       "        vertical-align: top;\n",
       "    }\n",
       "\n",
       "    .dataframe thead th {\n",
       "        text-align: right;\n",
       "    }\n",
       "</style>\n",
       "<table border=\"1\" class=\"dataframe\">\n",
       "  <thead>\n",
       "    <tr style=\"text-align: right;\">\n",
       "      <th></th>\n",
       "      <th>Energiequelle</th>\n",
       "      <th>Leistung in kW</th>\n",
       "    </tr>\n",
       "  </thead>\n",
       "  <tbody>\n",
       "    <tr>\n",
       "      <th>207</th>\n",
       "      <td>gas</td>\n",
       "      <td>1</td>\n",
       "    </tr>\n",
       "    <tr>\n",
       "      <th>194</th>\n",
       "      <td>gas</td>\n",
       "      <td>10</td>\n",
       "    </tr>\n",
       "    <tr>\n",
       "      <th>195</th>\n",
       "      <td>gas</td>\n",
       "      <td>2</td>\n",
       "    </tr>\n",
       "    <tr>\n",
       "      <th>196</th>\n",
       "      <td>gas</td>\n",
       "      <td>2</td>\n",
       "    </tr>\n",
       "    <tr>\n",
       "      <th>220</th>\n",
       "      <td>gas</td>\n",
       "      <td>2</td>\n",
       "    </tr>\n",
       "    <tr>\n",
       "      <th>223</th>\n",
       "      <td>gas</td>\n",
       "      <td>2</td>\n",
       "    </tr>\n",
       "    <tr>\n",
       "      <th>237</th>\n",
       "      <td>gas</td>\n",
       "      <td>2</td>\n",
       "    </tr>\n",
       "    <tr>\n",
       "      <th>198</th>\n",
       "      <td>gas</td>\n",
       "      <td>420</td>\n",
       "    </tr>\n",
       "    <tr>\n",
       "      <th>185</th>\n",
       "      <td>gas</td>\n",
       "      <td>440</td>\n",
       "    </tr>\n",
       "    <tr>\n",
       "      <th>187</th>\n",
       "      <td>gas</td>\n",
       "      <td>440</td>\n",
       "    </tr>\n",
       "    <tr>\n",
       "      <th>188</th>\n",
       "      <td>gas</td>\n",
       "      <td>440</td>\n",
       "    </tr>\n",
       "    <tr>\n",
       "      <th>230</th>\n",
       "      <td>gas</td>\n",
       "      <td>800</td>\n",
       "    </tr>\n",
       "  </tbody>\n",
       "</table>\n",
       "</div>"
      ],
      "text/plain": [
       "    Energiequelle Leistung in kW\n",
       "207           gas              1\n",
       "194           gas             10\n",
       "195           gas              2\n",
       "196           gas              2\n",
       "220           gas              2\n",
       "223           gas              2\n",
       "237           gas              2\n",
       "198           gas            420\n",
       "185           gas            440\n",
       "187           gas            440\n",
       "188           gas            440\n",
       "230           gas            800"
      ]
     },
     "execution_count": 394,
     "metadata": {},
     "output_type": "execute_result"
    }
   ],
   "source": [
    "\n",
    "quelle_list = ['biogas','biomass','coal','gas','hydro','nuclear','wind'] #Liste mit Energiequellen\n",
    "for quelle in quelle_list:\n",
    "    df_quelle = df_number[df_number['Energiequelle']=='quelle']  #Für jeden Energiequelle ein eigenes DataFrame erstellen\n",
    "\n",
    "df_gas"
   ]
  },
  {
   "cell_type": "code",
   "execution_count": 397,
   "id": "f3f2346e-4878-49a1-9f59-b0c590018994",
   "metadata": {},
   "outputs": [
    {
     "name": "stdout",
     "output_type": "stream",
     "text": [
      "    Energiequelle Leistung in kW\n",
      "207           gas              1\n",
      "194           gas             10\n",
      "195           gas              2\n",
      "196           gas              2\n",
      "220           gas              2\n",
      "223           gas              2\n",
      "237           gas              2\n",
      "198           gas            420\n",
      "185           gas            440\n",
      "187           gas            440\n",
      "188           gas            440\n",
      "230           gas            800\n"
     ]
    },
    {
     "data": {
      "image/png": "[encoded data removed]",
      "text/plain": [
       "<Figure size 432x288 with 1 Axes>"
      ]
     },
     "metadata": {
      "needs_background": "light"
     },
     "output_type": "display_data"
    }
   ],
   "source": [
    "import matplotlib as plt\n",
    "\n",
    "df_gas_sorted = df_gas.sort_values('Leistung in kW')  #DataFrame 'gas' sortieren nach Leistung in kW'\n",
    "print(df_gas_sorted)\n",
    "\n",
    "hist = df_gas_sorted['Leistung in kW'].hist(bins = 25)   #Als Histogramm plotten mit 'Leistnug in kW' in Abhängigkeit von der Häufigkeit\n",
    "hist.set_ylabel('Häufigkeit')\n",
    "hist.set_xlabel('Leistung in kW')\n",
    "hist.set_title(\"Energiequelle 'gas'\")\n",
    "hist.figure.savefig(\"/Users/user/Documents/Bewerbung RLI/Aufgabe/Häufigkeit der Energiequelle gas.png\") #Plot als png-Datei speichern"
   ]
  },
  {
   "cell_type": "code",
   "execution_count": null,
   "id": "d4566f79-fcb8-4bc6-a745-fc9659cf8ad8",
   "metadata": {},
   "outputs": [],
   "source": []
  },
  {
   "cell_type": "code",
   "execution_count": null,
   "id": "39dc0f2b-46c1-4370-9ce0-f4b8ddc19f07",
   "metadata": {},
   "outputs": [],
   "source": []
  },
  {
   "cell_type": "code",
   "execution_count": null,
   "id": "df575807-d00f-47f4-9c97-d399ad509b42",
   "metadata": {},
   "outputs": [],
   "source": []
  },
  {
   "cell_type": "code",
   "execution_count": null,
   "id": "fffb8e84-e96f-4a32-b45a-b6d24bc3ed42",
   "metadata": {},
   "outputs": [],
   "source": []
  },
  {
   "cell_type": "code",
   "execution_count": null,
   "id": "eb3fa458-a198-4a06-88f5-311dc3c1a943",
   "metadata": {},
   "outputs": [],
   "source": []
  }
 ],
 "metadata": {
  "kernelspec": {
   "display_name": "Python 3 (ipykernel)",
   "language": "python",
   "name": "python3"
  },
  "language_info": {
   "codemirror_mode": {
    "name": "ipython",
    "version": 3
   },
   "file_extension": ".py",
   "mimetype": "text/x-python",
   "name": "python",
   "nbconvert_exporter": "python",
   "pygments_lexer": "ipython3",
   "version": "3.9.12"
  }
 },
 "nbformat": 4,
 "nbformat_minor": 5
}
