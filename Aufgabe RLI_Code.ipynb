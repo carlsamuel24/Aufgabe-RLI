{
 "cells": [
  {
   "cell_type": "code",
   "execution_count": 497,
   "id": "633e37ba-40df-496c-8782-4bc4897b0b3b",
   "metadata": {},
   "outputs": [
    {
     "name": "stdout",
     "output_type": "stream",
     "text": [
      "     Energiequelle Leistung in kW\n",
      "0             wind            850\n",
      "1             wind            850\n",
      "2             wind            850\n",
      "3             wind            850\n",
      "4             wind            850\n",
      "...            ...            ...\n",
      "5102          wind           1.65\n",
      "5103          wind            850\n",
      "5104          wind           1.65\n",
      "5105          wind            850\n",
      "5106          wind            850\n",
      "\n",
      "[5107 rows x 2 columns]\n"
     ]
    }
   ],
   "source": [
    "import numpy as np\n",
    "import pandas as pd\n",
    "\n",
    "#csv_datei lesen und als Dataframe speichern\n",
    "df = pd.read_csv(\"/Users/user/Documents/Bewerbung RLI/Aufgabe/2023-03-15 Data Bewerbungsaufgabe.csv\", \n",
    "                             sep=\";\",\n",
    "                             header=0,\n",
    "                             names=[\"1\", \"Energiequelle\", \"Leistung in kW\"]) \n",
    "\n",
    "\n",
    "#erste Spalte löschen\n",
    "del df['1']  \n",
    "\n",
    "\n",
    "print(df)\n"
   ]
  },
  {
   "cell_type": "code",
   "execution_count": 498,
   "id": "b3f4e6ad-113f-4ffa-9919-bf573defa07a",
   "metadata": {},
   "outputs": [
    {
     "name": "stdout",
     "output_type": "stream",
     "text": [
      "     Energiequelle Leistung in kW\n",
      "4652        biogas            yes\n",
      "3022        biogas            NaN\n",
      "3021        biogas            NaN\n",
      "3020        biogas            NaN\n",
      "3018        biogas            NaN\n",
      "...            ...            ...\n",
      "2994           NaN            NaN\n",
      "2995           NaN            NaN\n",
      "3334           NaN            NaN\n",
      "3529           NaN            NaN\n",
      "4549           NaN            NaN\n",
      "\n",
      "[5107 rows x 2 columns]\n",
      "Energiequelle     object\n",
      "Leistung in kW    object\n",
      "dtype: object\n"
     ]
    }
   ],
   "source": [
    "#sortieren Energiequellen in alphabetisch Reihenfolge\n",
    "df_sorted = df.sort_values('Energiequelle')  \n",
    "\n",
    "\n",
    "print(df_sorted)\n",
    "print(df_sorted.dtypes)"
   ]
  },
  {
   "cell_type": "code",
   "execution_count": 499,
   "id": "d906f401-c966-4b19-8714-1399fffece67",
   "metadata": {},
   "outputs": [
    {
     "name": "stdout",
     "output_type": "stream",
     "text": [
      "     Energiequelle  Leistung in kW\n",
      "4652        biogas           600.0\n",
      "3022        biogas             NaN\n",
      "3021        biogas             NaN\n",
      "3020        biogas             NaN\n",
      "3018        biogas             NaN\n",
      "...            ...             ...\n",
      "2994           NaN             NaN\n",
      "2995           NaN             NaN\n",
      "3334           NaN             NaN\n",
      "3529           NaN             NaN\n",
      "4549           NaN             NaN\n",
      "\n",
      "[5107 rows x 2 columns]\n",
      "Energiequelle      object\n",
      "Leistung in kW    float64\n",
      "dtype: object\n"
     ]
    }
   ],
   "source": [
    "#Angewandt auf alle Zeilen des Dataframe\n",
    "for i in range(len(df)):  \n",
    "    df_sorted.loc[df['Leistung in kW']=='yes','Leistung in kW']=600 #wenn 'Leistung in kW' == yes, ändern in 600\n",
    "\n",
    "#Einträge der Spalte 'Leistung in kW' zu numerisch ändern. Wenn string vorliegt, 'NaN' als error ausgeben.\n",
    "df_sorted['Leistung in kW'] = pd.to_numeric(df_sorted['Leistung in kW'], errors = 'coerce') \n",
    "\n",
    "print(df_sorted)\n",
    "print(df_sorted.dtypes)"
   ]
  },
  {
   "cell_type": "code",
   "execution_count": 500,
   "id": "b47a4bca-4708-42a6-a1f1-122b3c31a9a8",
   "metadata": {},
   "outputs": [
    {
     "name": "stdout",
     "output_type": "stream",
     "text": [
      "     Energiequelle  Leistung in kW\n",
      "4652        biogas           600.0\n",
      "2432        biogas           250.0\n",
      "2427        biogas           901.0\n",
      "2424        biogas           889.0\n",
      "2407        biogas           330.0\n",
      "...            ...             ...\n",
      "1915          wind          3200.0\n",
      "1914          wind          3200.0\n",
      "1912          wind          3200.0\n",
      "1913          wind          3200.0\n",
      "5106          wind           850.0\n",
      "\n",
      "[2762 rows x 2 columns]\n",
      "Energiequelle      object\n",
      "Leistung in kW    float64\n",
      "dtype: object\n"
     ]
    }
   ],
   "source": [
    "#Alles Zeilen mit 'NaN'-Eintrag in der Spalte 'Leistung in kW' löschen\n",
    "df_numeric = df_sorted.dropna(subset=['Leistung in kW'])  \n",
    "\n",
    "print(df_numeric)\n",
    "print(df_numeric.dtypes)\n"
   ]
  },
  {
   "cell_type": "code",
   "execution_count": 501,
   "id": "79d75b6c-e282-4777-9271-23d56014303a",
   "metadata": {},
   "outputs": [
    {
     "name": "stdout",
     "output_type": "stream",
     "text": [
      "    Energiequelle  Leistung in kW\n",
      "207           gas               1\n",
      "194           gas              10\n",
      "195           gas               2\n",
      "196           gas               2\n",
      "220           gas               2\n",
      "223           gas               2\n",
      "237           gas               2\n",
      "198           gas             420\n",
      "185           gas             440\n",
      "187           gas             440\n",
      "188           gas             440\n",
      "230           gas             800\n",
      "Energiequelle     object\n",
      "Leistung in kW     int64\n",
      "dtype: object\n"
     ]
    }
   ],
   "source": [
    "#Liste mit Energiequellen\n",
    "quelle_list = ['biogas','biomass','coal','gas','hydro','nuclear','wind'] \n",
    "\n",
    "\n",
    "for quelle in quelle_list:\n",
    "    #Für jeden Energiequelle ein eigenes DataFrame erstellen\n",
    "    df_quelle = df_numeric[df_numeric['Energiequelle']=='quelle']  \n",
    "\n",
    "print(df_gas)\n",
    "print(df_gas.dtypes)\n"
   ]
  },
  {
   "cell_type": "code",
   "execution_count": 496,
   "id": "f3f2346e-4878-49a1-9f59-b0c590018994",
   "metadata": {},
   "outputs": [
    {
     "name": "stdout",
     "output_type": "stream",
     "text": [
      "   Leistung in kW  Häufigkeit\n",
      "0               1           1\n",
      "1               2           5\n",
      "2              10           1\n",
      "3             420           1\n",
      "4             440           3\n",
      "5             800           1\n"
     ]
    },
    {
     "data": {
      "image/png": "[encoded data removed]",
      "text/plain": [
       "<Figure size 432x288 with 1 Axes>"
      ]
     },
     "metadata": {
      "needs_background": "light"
     },
     "output_type": "display_data"
    }
   ],
   "source": [
    "import matplotlib as plt\n",
    "\n",
    "#Einträge der Spalte 'Leistung in kW' zählen, anschließend index-Spalte hinzufügen und Namen zu 'Häufigkeit' umändern\n",
    "freq = df_gas.groupby(['Leistung in kW']).count().reset_index().rename(columns={'Energiequelle':'Häufigkeit'}) \n",
    "\n",
    "print(freq)\n",
    "print(f\n",
    "\n",
    "#Balkendiagramm erstellen, mit den Spalten als x- und x-Werten\n",
    "bar = freq.plot.bar(x = 'Leistung in kW', y = 'Häufigkeit')\n",
    "\n",
    "#Plot abspeichern als png-Datei\n",
    "bar.figure.savefig(\"/Users/user/Documents/Bewerbung RLI/Aufgabe/Häufigkeit der Energiequelle gas.png\") #Plot als png-Datei speichern"
   ]
  }
 ],
 "metadata": {
  "kernelspec": {
   "display_name": "Python 3 (ipykernel)",
   "language": "python",
   "name": "python3"
  },
  "language_info": {
   "codemirror_mode": {
    "name": "ipython",
    "version": 3
   },
   "file_extension": ".py",
   "mimetype": "text/x-python",
   "name": "python",
   "nbconvert_exporter": "python",
   "pygments_lexer": "ipython3",
   "version": "3.9.12"
  }
 },
 "nbformat": 4,
 "nbformat_minor": 5
}
